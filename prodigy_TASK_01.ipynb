{
  "nbformat": 4,
  "nbformat_minor": 0,
  "metadata": {
    "colab": {
      "provenance": [],
      "mount_file_id": "1mJ4GnSlUwdDOX-aScTKsyatSyg_hHava",
      "authorship_tag": "ABX9TyPVH14RRkEHa6f0BsO99bkE",
      "include_colab_link": true
    },
    "kernelspec": {
      "name": "python3",
      "display_name": "Python 3"
    },
    "language_info": {
      "name": "python"
    }
  },
  "cells": [
    {
      "cell_type": "markdown",
      "metadata": {
        "id": "view-in-github",
        "colab_type": "text"
      },
      "source": [
        "<a href=\"https://colab.research.google.com/github/smiling621/PRODIGY_DS_01/blob/main/prodigy_TASK_01.ipynb\" target=\"_parent\"><img src=\"https://colab.research.google.com/assets/colab-badge.svg\" alt=\"Open In Colab\"/></a>"
      ]
    },
    {
      "cell_type": "code",
      "execution_count": 24,
      "metadata": {
        "id": "NvkR0yx7L_2c"
      },
      "outputs": [],
      "source": [
        "import pandas as pd\n",
        "import matplotlib.pyplot as plt\n",
        "import matplotlib.pyplot as plt\n",
        "import seaborn as sns"
      ]
    },
    {
      "cell_type": "code",
      "source": [
        "#loading the data and displaying the first 5 rows to understand its structure and contents .\n",
        "df = pd.read_csv('/content/Metadata_Country_API_SP.POP.TOTL_DS2_en_csv_v2_507434.csv')\n",
        "df.head()"
      ],
      "metadata": {
        "colab": {
          "base_uri": "https://localhost:8080/",
          "height": 206
        },
        "id": "EVhOXagLNzq7",
        "outputId": "dadcd9a2-220c-4b34-e361-d6976b61476f"
      },
      "execution_count": 52,
      "outputs": [
        {
          "output_type": "execute_result",
          "data": {
            "text/plain": [
              "  Country Code                     Region          IncomeGroup  \\\n",
              "0          ABW  Latin America & Caribbean          High income   \n",
              "1          AFE                        NaN                  NaN   \n",
              "2          AFG                 South Asia           Low income   \n",
              "3          AFW                        NaN                  NaN   \n",
              "4          AGO         Sub-Saharan Africa  Lower middle income   \n",
              "\n",
              "                                        SpecialNotes  \\\n",
              "0                                                NaN   \n",
              "1  26 countries, stretching from the Red Sea in t...   \n",
              "2  The reporting period for national accounts dat...   \n",
              "3  22 countries, stretching from the westernmost ...   \n",
              "4  The World Bank systematically assesses the app...   \n",
              "\n",
              "                     TableName  Unnamed: 5  \n",
              "0                        Aruba         NaN  \n",
              "1  Africa Eastern and Southern         NaN  \n",
              "2                  Afghanistan         NaN  \n",
              "3   Africa Western and Central         NaN  \n",
              "4                       Angola         NaN  "
            ],
            "text/html": [
              "\n",
              "  <div id=\"df-e444182c-07af-4da3-99ed-a1e0066a2d14\" class=\"colab-df-container\">\n",
              "    <div>\n",
              "<style scoped>\n",
              "    .dataframe tbody tr th:only-of-type {\n",
              "        vertical-align: middle;\n",
              "    }\n",
              "\n",
              "    .dataframe tbody tr th {\n",
              "        vertical-align: top;\n",
              "    }\n",
              "\n",
              "    .dataframe thead th {\n",
              "        text-align: right;\n",
              "    }\n",
              "</style>\n",
              "<table border=\"1\" class=\"dataframe\">\n",
              "  <thead>\n",
              "    <tr style=\"text-align: right;\">\n",
              "      <th></th>\n",
              "      <th>Country Code</th>\n",
              "      <th>Region</th>\n",
              "      <th>IncomeGroup</th>\n",
              "      <th>SpecialNotes</th>\n",
              "      <th>TableName</th>\n",
              "      <th>Unnamed: 5</th>\n",
              "    </tr>\n",
              "  </thead>\n",
              "  <tbody>\n",
              "    <tr>\n",
              "      <th>0</th>\n",
              "      <td>ABW</td>\n",
              "      <td>Latin America &amp; Caribbean</td>\n",
              "      <td>High income</td>\n",
              "      <td>NaN</td>\n",
              "      <td>Aruba</td>\n",
              "      <td>NaN</td>\n",
              "    </tr>\n",
              "    <tr>\n",
              "      <th>1</th>\n",
              "      <td>AFE</td>\n",
              "      <td>NaN</td>\n",
              "      <td>NaN</td>\n",
              "      <td>26 countries, stretching from the Red Sea in t...</td>\n",
              "      <td>Africa Eastern and Southern</td>\n",
              "      <td>NaN</td>\n",
              "    </tr>\n",
              "    <tr>\n",
              "      <th>2</th>\n",
              "      <td>AFG</td>\n",
              "      <td>South Asia</td>\n",
              "      <td>Low income</td>\n",
              "      <td>The reporting period for national accounts dat...</td>\n",
              "      <td>Afghanistan</td>\n",
              "      <td>NaN</td>\n",
              "    </tr>\n",
              "    <tr>\n",
              "      <th>3</th>\n",
              "      <td>AFW</td>\n",
              "      <td>NaN</td>\n",
              "      <td>NaN</td>\n",
              "      <td>22 countries, stretching from the westernmost ...</td>\n",
              "      <td>Africa Western and Central</td>\n",
              "      <td>NaN</td>\n",
              "    </tr>\n",
              "    <tr>\n",
              "      <th>4</th>\n",
              "      <td>AGO</td>\n",
              "      <td>Sub-Saharan Africa</td>\n",
              "      <td>Lower middle income</td>\n",
              "      <td>The World Bank systematically assesses the app...</td>\n",
              "      <td>Angola</td>\n",
              "      <td>NaN</td>\n",
              "    </tr>\n",
              "  </tbody>\n",
              "</table>\n",
              "</div>\n",
              "    <div class=\"colab-df-buttons\">\n",
              "\n",
              "  <div class=\"colab-df-container\">\n",
              "    <button class=\"colab-df-convert\" onclick=\"convertToInteractive('df-e444182c-07af-4da3-99ed-a1e0066a2d14')\"\n",
              "            title=\"Convert this dataframe to an interactive table.\"\n",
              "            style=\"display:none;\">\n",
              "\n",
              "  <svg xmlns=\"http://www.w3.org/2000/svg\" height=\"24px\" viewBox=\"0 -960 960 960\">\n",
              "    <path d=\"M120-120v-720h720v720H120Zm60-500h600v-160H180v160Zm220 220h160v-160H400v160Zm0 220h160v-160H400v160ZM180-400h160v-160H180v160Zm440 0h160v-160H620v160ZM180-180h160v-160H180v160Zm440 0h160v-160H620v160Z\"/>\n",
              "  </svg>\n",
              "    </button>\n",
              "\n",
              "  <style>\n",
              "    .colab-df-container {\n",
              "      display:flex;\n",
              "      gap: 12px;\n",
              "    }\n",
              "\n",
              "    .colab-df-convert {\n",
              "      background-color: #E8F0FE;\n",
              "      border: none;\n",
              "      border-radius: 50%;\n",
              "      cursor: pointer;\n",
              "      display: none;\n",
              "      fill: #1967D2;\n",
              "      height: 32px;\n",
              "      padding: 0 0 0 0;\n",
              "      width: 32px;\n",
              "    }\n",
              "\n",
              "    .colab-df-convert:hover {\n",
              "      background-color: #E2EBFA;\n",
              "      box-shadow: 0px 1px 2px rgba(60, 64, 67, 0.3), 0px 1px 3px 1px rgba(60, 64, 67, 0.15);\n",
              "      fill: #174EA6;\n",
              "    }\n",
              "\n",
              "    .colab-df-buttons div {\n",
              "      margin-bottom: 4px;\n",
              "    }\n",
              "\n",
              "    [theme=dark] .colab-df-convert {\n",
              "      background-color: #3B4455;\n",
              "      fill: #D2E3FC;\n",
              "    }\n",
              "\n",
              "    [theme=dark] .colab-df-convert:hover {\n",
              "      background-color: #434B5C;\n",
              "      box-shadow: 0px 1px 3px 1px rgba(0, 0, 0, 0.15);\n",
              "      filter: drop-shadow(0px 1px 2px rgba(0, 0, 0, 0.3));\n",
              "      fill: #FFFFFF;\n",
              "    }\n",
              "  </style>\n",
              "\n",
              "    <script>\n",
              "      const buttonEl =\n",
              "        document.querySelector('#df-e444182c-07af-4da3-99ed-a1e0066a2d14 button.colab-df-convert');\n",
              "      buttonEl.style.display =\n",
              "        google.colab.kernel.accessAllowed ? 'block' : 'none';\n",
              "\n",
              "      async function convertToInteractive(key) {\n",
              "        const element = document.querySelector('#df-e444182c-07af-4da3-99ed-a1e0066a2d14');\n",
              "        const dataTable =\n",
              "          await google.colab.kernel.invokeFunction('convertToInteractive',\n",
              "                                                    [key], {});\n",
              "        if (!dataTable) return;\n",
              "\n",
              "        const docLinkHtml = 'Like what you see? Visit the ' +\n",
              "          '<a target=\"_blank\" href=https://colab.research.google.com/notebooks/data_table.ipynb>data table notebook</a>'\n",
              "          + ' to learn more about interactive tables.';\n",
              "        element.innerHTML = '';\n",
              "        dataTable['output_type'] = 'display_data';\n",
              "        await google.colab.output.renderOutput(dataTable, element);\n",
              "        const docLink = document.createElement('div');\n",
              "        docLink.innerHTML = docLinkHtml;\n",
              "        element.appendChild(docLink);\n",
              "      }\n",
              "    </script>\n",
              "  </div>\n",
              "\n",
              "\n",
              "<div id=\"df-40634f9b-18a9-4ac5-a126-2d1168fdd403\">\n",
              "  <button class=\"colab-df-quickchart\" onclick=\"quickchart('df-40634f9b-18a9-4ac5-a126-2d1168fdd403')\"\n",
              "            title=\"Suggest charts\"\n",
              "            style=\"display:none;\">\n",
              "\n",
              "<svg xmlns=\"http://www.w3.org/2000/svg\" height=\"24px\"viewBox=\"0 0 24 24\"\n",
              "     width=\"24px\">\n",
              "    <g>\n",
              "        <path d=\"M19 3H5c-1.1 0-2 .9-2 2v14c0 1.1.9 2 2 2h14c1.1 0 2-.9 2-2V5c0-1.1-.9-2-2-2zM9 17H7v-7h2v7zm4 0h-2V7h2v10zm4 0h-2v-4h2v4z\"/>\n",
              "    </g>\n",
              "</svg>\n",
              "  </button>\n",
              "\n",
              "<style>\n",
              "  .colab-df-quickchart {\n",
              "      --bg-color: #E8F0FE;\n",
              "      --fill-color: #1967D2;\n",
              "      --hover-bg-color: #E2EBFA;\n",
              "      --hover-fill-color: #174EA6;\n",
              "      --disabled-fill-color: #AAA;\n",
              "      --disabled-bg-color: #DDD;\n",
              "  }\n",
              "\n",
              "  [theme=dark] .colab-df-quickchart {\n",
              "      --bg-color: #3B4455;\n",
              "      --fill-color: #D2E3FC;\n",
              "      --hover-bg-color: #434B5C;\n",
              "      --hover-fill-color: #FFFFFF;\n",
              "      --disabled-bg-color: #3B4455;\n",
              "      --disabled-fill-color: #666;\n",
              "  }\n",
              "\n",
              "  .colab-df-quickchart {\n",
              "    background-color: var(--bg-color);\n",
              "    border: none;\n",
              "    border-radius: 50%;\n",
              "    cursor: pointer;\n",
              "    display: none;\n",
              "    fill: var(--fill-color);\n",
              "    height: 32px;\n",
              "    padding: 0;\n",
              "    width: 32px;\n",
              "  }\n",
              "\n",
              "  .colab-df-quickchart:hover {\n",
              "    background-color: var(--hover-bg-color);\n",
              "    box-shadow: 0 1px 2px rgba(60, 64, 67, 0.3), 0 1px 3px 1px rgba(60, 64, 67, 0.15);\n",
              "    fill: var(--button-hover-fill-color);\n",
              "  }\n",
              "\n",
              "  .colab-df-quickchart-complete:disabled,\n",
              "  .colab-df-quickchart-complete:disabled:hover {\n",
              "    background-color: var(--disabled-bg-color);\n",
              "    fill: var(--disabled-fill-color);\n",
              "    box-shadow: none;\n",
              "  }\n",
              "\n",
              "  .colab-df-spinner {\n",
              "    border: 2px solid var(--fill-color);\n",
              "    border-color: transparent;\n",
              "    border-bottom-color: var(--fill-color);\n",
              "    animation:\n",
              "      spin 1s steps(1) infinite;\n",
              "  }\n",
              "\n",
              "  @keyframes spin {\n",
              "    0% {\n",
              "      border-color: transparent;\n",
              "      border-bottom-color: var(--fill-color);\n",
              "      border-left-color: var(--fill-color);\n",
              "    }\n",
              "    20% {\n",
              "      border-color: transparent;\n",
              "      border-left-color: var(--fill-color);\n",
              "      border-top-color: var(--fill-color);\n",
              "    }\n",
              "    30% {\n",
              "      border-color: transparent;\n",
              "      border-left-color: var(--fill-color);\n",
              "      border-top-color: var(--fill-color);\n",
              "      border-right-color: var(--fill-color);\n",
              "    }\n",
              "    40% {\n",
              "      border-color: transparent;\n",
              "      border-right-color: var(--fill-color);\n",
              "      border-top-color: var(--fill-color);\n",
              "    }\n",
              "    60% {\n",
              "      border-color: transparent;\n",
              "      border-right-color: var(--fill-color);\n",
              "    }\n",
              "    80% {\n",
              "      border-color: transparent;\n",
              "      border-right-color: var(--fill-color);\n",
              "      border-bottom-color: var(--fill-color);\n",
              "    }\n",
              "    90% {\n",
              "      border-color: transparent;\n",
              "      border-bottom-color: var(--fill-color);\n",
              "    }\n",
              "  }\n",
              "</style>\n",
              "\n",
              "  <script>\n",
              "    async function quickchart(key) {\n",
              "      const quickchartButtonEl =\n",
              "        document.querySelector('#' + key + ' button');\n",
              "      quickchartButtonEl.disabled = true;  // To prevent multiple clicks.\n",
              "      quickchartButtonEl.classList.add('colab-df-spinner');\n",
              "      try {\n",
              "        const charts = await google.colab.kernel.invokeFunction(\n",
              "            'suggestCharts', [key], {});\n",
              "      } catch (error) {\n",
              "        console.error('Error during call to suggestCharts:', error);\n",
              "      }\n",
              "      quickchartButtonEl.classList.remove('colab-df-spinner');\n",
              "      quickchartButtonEl.classList.add('colab-df-quickchart-complete');\n",
              "    }\n",
              "    (() => {\n",
              "      let quickchartButtonEl =\n",
              "        document.querySelector('#df-40634f9b-18a9-4ac5-a126-2d1168fdd403 button');\n",
              "      quickchartButtonEl.style.display =\n",
              "        google.colab.kernel.accessAllowed ? 'block' : 'none';\n",
              "    })();\n",
              "  </script>\n",
              "</div>\n",
              "\n",
              "    </div>\n",
              "  </div>\n"
            ],
            "application/vnd.google.colaboratory.intrinsic+json": {
              "type": "dataframe",
              "variable_name": "df",
              "summary": "{\n  \"name\": \"df\",\n  \"rows\": 265,\n  \"fields\": [\n    {\n      \"column\": \"Country Code\",\n      \"properties\": {\n        \"dtype\": \"string\",\n        \"num_unique_values\": 265,\n        \"samples\": [\n          \"NZL\",\n          \"ITA\",\n          \"HKG\"\n        ],\n        \"semantic_type\": \"\",\n        \"description\": \"\"\n      }\n    },\n    {\n      \"column\": \"Region\",\n      \"properties\": {\n        \"dtype\": \"category\",\n        \"num_unique_values\": 7,\n        \"samples\": [\n          \"Latin America & Caribbean\",\n          \"South Asia\",\n          \"East Asia & Pacific\"\n        ],\n        \"semantic_type\": \"\",\n        \"description\": \"\"\n      }\n    },\n    {\n      \"column\": \"IncomeGroup\",\n      \"properties\": {\n        \"dtype\": \"category\",\n        \"num_unique_values\": 4,\n        \"samples\": [\n          \"Low income\",\n          \"Upper middle income\",\n          \"High income\"\n        ],\n        \"semantic_type\": \"\",\n        \"description\": \"\"\n      }\n    },\n    {\n      \"column\": \"SpecialNotes\",\n      \"properties\": {\n        \"dtype\": \"category\",\n        \"num_unique_values\": 111,\n        \"samples\": [\n          \"A simple multiplier is used to convert the national currencies of EMU members to euros. The following irrevocable euro conversion rate was adopted by the EU Council on January 1, 1999: 1 euro = 2.20371 Netherlands guilder. Please note that historical data before 1999 are not actual euros and are not comparable or suitable for aggregation across countries.\",\n          \"Data before 2015\\u00a0were adjusted to reflect the\\u00a0new denomination effective from July 1, 2016 (BYN), a decrease of 10,000 times (1 BYN = 10,000 BYR)\",\n          \"Arab World aggregate. Arab World is composed of members of the League of Arab States.\"\n        ],\n        \"semantic_type\": \"\",\n        \"description\": \"\"\n      }\n    },\n    {\n      \"column\": \"TableName\",\n      \"properties\": {\n        \"dtype\": \"string\",\n        \"num_unique_values\": 265,\n        \"samples\": [\n          \"New Zealand\",\n          \"Italy\",\n          \"Hong Kong SAR, China\"\n        ],\n        \"semantic_type\": \"\",\n        \"description\": \"\"\n      }\n    },\n    {\n      \"column\": \"Unnamed: 5\",\n      \"properties\": {\n        \"dtype\": \"number\",\n        \"std\": null,\n        \"min\": null,\n        \"max\": null,\n        \"num_unique_values\": 0,\n        \"samples\": [],\n        \"semantic_type\": \"\",\n        \"description\": \"\"\n      }\n    }\n  ]\n}"
            }
          },
          "metadata": {},
          "execution_count": 52
        }
      ]
    },
    {
      "cell_type": "code",
      "source": [
        "#In this first element is no of row and another is no of column\n",
        "df.shape"
      ],
      "metadata": {
        "colab": {
          "base_uri": "https://localhost:8080/"
        },
        "id": "-wuGtT9IQi06",
        "outputId": "b943f1af-d6d4-4695-f241-5698574f7895"
      },
      "execution_count": 29,
      "outputs": [
        {
          "output_type": "execute_result",
          "data": {
            "text/plain": [
              "(265, 6)"
            ]
          },
          "metadata": {},
          "execution_count": 29
        }
      ]
    },
    {
      "cell_type": "code",
      "source": [
        "# provides a summary of the DataFrame(df),\n",
        "#including the number of non-null values per column and\n",
        "#data types, aiding in quick assessment of data completeness and structure.\n",
        "df.info()"
      ],
      "metadata": {
        "colab": {
          "base_uri": "https://localhost:8080/"
        },
        "id": "APW4i8bIT3OX",
        "outputId": "25b963c0-feae-4459-a388-5f89cf190ab1"
      },
      "execution_count": 31,
      "outputs": [
        {
          "output_type": "stream",
          "name": "stdout",
          "text": [
            "<class 'pandas.core.frame.DataFrame'>\n",
            "RangeIndex: 265 entries, 0 to 264\n",
            "Data columns (total 6 columns):\n",
            " #   Column        Non-Null Count  Dtype  \n",
            "---  ------        --------------  -----  \n",
            " 0   Country Code  265 non-null    object \n",
            " 1   Region        217 non-null    object \n",
            " 2   IncomeGroup   216 non-null    object \n",
            " 3   SpecialNotes  126 non-null    object \n",
            " 4   TableName     265 non-null    object \n",
            " 5   Unnamed: 5    0 non-null      float64\n",
            "dtypes: float64(1), object(5)\n",
            "memory usage: 12.5+ KB\n"
          ]
        }
      ]
    },
    {
      "cell_type": "code",
      "source": [
        "#returns a list of column names\n",
        "df.columns"
      ],
      "metadata": {
        "colab": {
          "base_uri": "https://localhost:8080/"
        },
        "id": "JxB7dD7eUvcY",
        "outputId": "c0377061-2aef-4127-c949-61dc2eb6a83b"
      },
      "execution_count": 32,
      "outputs": [
        {
          "output_type": "execute_result",
          "data": {
            "text/plain": [
              "Index(['Country Code', 'Region', 'IncomeGroup', 'SpecialNotes', 'TableName',\n",
              "       'Unnamed: 5'],\n",
              "      dtype='object')"
            ]
          },
          "metadata": {},
          "execution_count": 32
        }
      ]
    },
    {
      "cell_type": "code",
      "source": [
        "#It counts the occurance of each unique value\n",
        "income_counts = df['IncomeGroup'].value_counts()"
      ],
      "metadata": {
        "id": "s6bWSv59ef_8"
      },
      "execution_count": 83,
      "outputs": []
    },
    {
      "cell_type": "code",
      "source": [
        "#width and height\n",
        "plt.figure(figsize=(20, 10))"
      ],
      "metadata": {
        "colab": {
          "base_uri": "https://localhost:8080/",
          "height": 52
        },
        "id": "VNHUdw6amusY",
        "outputId": "1901b256-b872-4009-99f8-525766589faf"
      },
      "execution_count": 84,
      "outputs": [
        {
          "output_type": "execute_result",
          "data": {
            "text/plain": [
              "<Figure size 2000x1000 with 0 Axes>"
            ]
          },
          "metadata": {},
          "execution_count": 84
        },
        {
          "output_type": "display_data",
          "data": {
            "text/plain": [
              "<Figure size 2000x1000 with 0 Axes>"
            ]
          },
          "metadata": {}
        }
      ]
    },
    {
      "cell_type": "code",
      "source": [
        "#displays current values\n",
        "plt.show()"
      ],
      "metadata": {
        "id": "aiMJPN0buuet"
      },
      "execution_count": 85,
      "outputs": []
    },
    {
      "cell_type": "code",
      "source": [
        "sns.countplot(data=df, x='IncomeGroup', palette='Set3', hue='IncomeGroup', dodge=False) # The bars for different values of 'Hue' are stacked on top of each other within each 'Category'.\n",
        "plt.title('Distribution of Countries by Income Group')\n",
        "plt.xlabel('Income Group')\n",
        "plt.ylabel('Count')\n",
        "plt.xticks(rotation=45)  # Rotate x-axis labels for better readability so that there won't be problem of facing overlapping words.\n",
        "plt.legend(title='Income Group', loc='best')  # Add legend with IncomeGroup categories which provides explanation to the plot\n",
        "plt.tight_layout()\n",
        "plt.show()"
      ],
      "metadata": {
        "colab": {
          "base_uri": "https://localhost:8080/",
          "height": 523
        },
        "id": "Fb0khJYkmz04",
        "outputId": "68f6d63a-7907-4831-8a6c-75e028453ffe"
      },
      "execution_count": 86,
      "outputs": [
        {
          "output_type": "stream",
          "name": "stderr",
          "text": [
            "WARNING:matplotlib.legend:No artists with labels found to put in legend.  Note that artists whose label start with an underscore are ignored when legend() is called with no argument.\n"
          ]
        },
        {
          "output_type": "display_data",
          "data": {
            "text/plain": [
              "<Figure size 640x480 with 1 Axes>"
            ],
            "image/png": "[encoded data removed]"
          },
          "metadata": {}
        }
      ]
    },
    {
      "cell_type": "code",
      "source": [
        "# Loading data with 'SP.POP.TOTL' column\n",
        "data = {\n",
        "    'Country Code': ['ABW', 'AFE', 'AFG', 'AFW', 'AGO'],\n",
        "    'Region': ['Latin America & Caribbean', 'NaN', 'South Asia', 'NaN', 'Sub-Saharan Africa'],\n",
        "    'IncomeGroup': ['High income', 'NaN', 'Low income', 'NaN', 'Lower middle income'],\n",
        "    'SpecialNotes': ['NaN', '26 countries, stretching from the Red Sea in t', 'The reporting period for national accounts data', '22 countries, stretching from the westernmost', 'The World Bank systematically assesses the app'],\n",
        "    'TableName': ['Aruba', 'Africa Eastern and Southern', 'Afghanistan', 'Africa Western and Central', 'Angola'],\n",
        "    'Unnamed: 5': [float(1), 2, 3, 4, 5]\n",
        "}"
      ],
      "metadata": {
        "id": "OxiqWEwtm5Dr"
      },
      "execution_count": 78,
      "outputs": []
    },
    {
      "cell_type": "code",
      "source": [
        "df = pd.DataFrame(data)# data dic is converted into a Pandas DataFrame df\n",
        "print(df) #displays the contents of the DataFrame df in a tabular format"
      ],
      "metadata": {
        "colab": {
          "base_uri": "https://localhost:8080/"
        },
        "id": "iYmPuJPenD1j",
        "outputId": "3cc05ab0-a83d-4f34-af2a-37651df7c9be"
      },
      "execution_count": 87,
      "outputs": [
        {
          "output_type": "stream",
          "name": "stdout",
          "text": [
            "  Country Code                     Region          IncomeGroup  \\\n",
            "0          ABW  Latin America & Caribbean          High income   \n",
            "1          AFE                        NaN                  NaN   \n",
            "2          AFG                 South Asia           Low income   \n",
            "3          AFW                        NaN                  NaN   \n",
            "4          AGO         Sub-Saharan Africa  Lower middle income   \n",
            "\n",
            "                                      SpecialNotes  \\\n",
            "0                                              NaN   \n",
            "1   26 countries, stretching from the Red Sea in t   \n",
            "2  The reporting period for national accounts data   \n",
            "3    22 countries, stretching from the westernmost   \n",
            "4   The World Bank systematically assesses the app   \n",
            "\n",
            "                     TableName  Unnamed: 5  \n",
            "0                        Aruba         1.0  \n",
            "1  Africa Eastern and Southern         2.0  \n",
            "2                  Afghanistan         3.0  \n",
            "3   Africa Western and Central         4.0  \n",
            "4                       Angola         5.0  \n"
          ]
        }
      ]
    },
    {
      "cell_type": "code",
      "source": [
        "plt.figure(figsize=(8, 6))\n",
        "sns.histplot(data=df, x='Unnamed: 5', bins=5, kde=True)#Specifies the number of interval into which the data range will be divided.\n",
        "#kde adds a smooth line to the histogram to estimate the underlying distribution of the data...\n",
        "plt.title('Histogram of Unnamed: 5 Column')\n",
        "plt.xlabel('Values')\n",
        "plt.ylabel('Frequency')\n",
        "plt.show()"
      ],
      "metadata": {
        "colab": {
          "base_uri": "https://localhost:8080/",
          "height": 564
        },
        "id": "1Gp58RrBpvAH",
        "outputId": "4e52d97f-b79b-4c8d-ddf8-ed4192133460"
      },
      "execution_count": 88,
      "outputs": [
        {
          "output_type": "display_data",
          "data": {
            "text/plain": [
              "<Figure size 800x600 with 1 Axes>"
            ],
            "image/png": "[encoded data removed]"
          },
          "metadata": {}
        }
      ]
    },
    {
      "cell_type": "code",
      "source": [],
      "metadata": {
        "id": "I6nl2Sq5pyOk"
      },
      "execution_count": null,
      "outputs": []
    }
  ]
}